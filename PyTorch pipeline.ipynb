{
 "cells": [
  {
   "cell_type": "code",
   "execution_count": 52,
   "id": "93fd88dc-9bd8-4d93-a43d-aa5189355e3b",
   "metadata": {
    "tags": []
   },
   "outputs": [
    {
     "name": "stdout",
     "output_type": "stream",
     "text": [
      "Accuracy: 0.9824561476707458\n"
     ]
    }
   ],
   "source": [
    "import torch\n",
    "import torch.nn as nn\n",
    "import torch.optim as optim\n",
    "from sklearn.datasets import load_iris\n",
    "from sklearn.model_selection import train_test_split\n",
    "from sklearn.preprocessing import StandardScaler\n",
    "from sklearn.preprocessing import LabelEncoder\n",
    "\n",
    "# Load the data\n",
    "df = pd.read_csv('data.csv')\n",
    "df.head()\n",
    "\n",
    "# Convert the predictor variables and the target of the data to arrays. \n",
    "X = df.iloc[:, 2:32].to_numpy()\n",
    "X\n",
    "\n",
    "y1 = df.iloc[:, 1]\n",
    "y = LabelEncoder().fit_transform(y1)\n",
    "y\n",
    "\n",
    "# Preprocess the data\n",
    "scaler = StandardScaler()\n",
    "X = scaler.fit_transform(X)\n",
    "y = (y != 0).astype(int)  # Convert to binary classification problem\n",
    "\n",
    "# Split the data into training and testing sets\n",
    "X_train, X_test, y_train, y_test = train_test_split(X, y, test_size=0.2, random_state=42)\n",
    "\n",
    "# Define the neural network architecture\n",
    "class Net(nn.Module):\n",
    "    def __init__(self):\n",
    "        super(Net, self).__init__()\n",
    "        self.fc1 = nn.Linear(30, 60) ## the actual number of the predictor variables\n",
    "        self.fc2 = nn.Linear(60, 1)\n",
    "        self.relu = nn.ReLU()\n",
    "        self.sigmoid = nn.Sigmoid()\n",
    "\n",
    "    def forward(self, x):\n",
    "        x = self.relu(self.fc1(x))\n",
    "        x = self.sigmoid(self.fc2(x))\n",
    "        return x\n",
    "\n",
    "# Instantiate the neural network\n",
    "net = Net()\n",
    "\n",
    "# Define the loss function and optimizer\n",
    "criterion = nn.BCELoss()\n",
    "optimizer = optim.Adam(net.parameters(), lr=0.01)\n",
    "\n",
    "# Train the neural network\n",
    "for epoch in range(100):\n",
    "    optimizer.zero_grad()\n",
    "    outputs = net(torch.Tensor(X_train).float())\n",
    "    loss = criterion(outputs, torch.Tensor(y_train).float().view(-1, 1))\n",
    "    loss.backward()\n",
    "    optimizer.step()\n",
    "\n",
    "# Test the neural network\n",
    "with torch.no_grad():\n",
    "    outputs = net(torch.Tensor(X_test).float())\n",
    "    predicted = (outputs > 0.5).float()\n",
    "    accuracy = (predicted == torch.Tensor(y_test).float().view(-1, 1)).float().mean()\n",
    "    print(f\"Accuracy: {accuracy.item()}\")"
   ]
  },
  {
   "cell_type": "code",
   "execution_count": 53,
   "id": "36484e99-c20c-4b3b-8c91-1028b44a75ed",
   "metadata": {},
   "outputs": [
    {
     "name": "stdout",
     "output_type": "stream",
     "text": [
      "RMSE of the base model: 0.132\n"
     ]
    }
   ],
   "source": [
    "# RMSE calculation\n",
    "from sklearn.metrics import mean_squared_error\n",
    "rmse = mean_squared_error(y_test, predicted, squared=False)\n",
    "print(f\"RMSE of the base model: {rmse:.3f}\")"
   ]
  },
  {
   "cell_type": "code",
   "execution_count": null,
   "id": "f8f12f23-b1e3-4eae-b4d9-39296a2b13fc",
   "metadata": {},
   "outputs": [],
   "source": []
  }
 ],
 "metadata": {
  "kernelspec": {
   "display_name": "Python 3 (ipykernel)",
   "language": "python",
   "name": "python3"
  },
  "language_info": {
   "codemirror_mode": {
    "name": "ipython",
    "version": 3
   },
   "file_extension": ".py",
   "mimetype": "text/x-python",
   "name": "python",
   "nbconvert_exporter": "python",
   "pygments_lexer": "ipython3",
   "version": "3.8.13"
  }
 },
 "nbformat": 4,
 "nbformat_minor": 5
}
